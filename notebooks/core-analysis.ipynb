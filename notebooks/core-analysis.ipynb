{
 "cells": [
  {
   "cell_type": "code",
   "execution_count": null,
   "id": "ec2c48c3",
   "metadata": {},
   "outputs": [],
   "source": [
    "import numpy as np\n",
    "import matplotlib.pyplot as plt\n",
    "import pandas as pd"
   ]
  },
  {
   "cell_type": "code",
   "execution_count": null,
   "id": "8d87f968",
   "metadata": {},
   "outputs": [],
   "source": [
    "def summarize_toucan_project(data):\n",
    "    \"\"\"Calculate project level statistics about Toucan retirements\n",
    "\n",
    "    frac: fraction of all reported project retirements that have occured via Toucan\n",
    "    quantity: total number of Toucan retirements\n",
    "    dormancy: days since last recorded retirement, prior to Toucan.\n",
    "    \"\"\"\n",
    "    try:\n",
    "        first_touc = data.loc[data[\"is_touc\"], \"retired_at\"].min()\n",
    "        prior_retire = data[\n",
    "            (data[\"retired_at\"] < first_touc) & (~data[\"is_touc\"])\n",
    "        ]\n",
    "        if len(prior_retire) == 0:\n",
    "            days_since_prev_retire = (\n",
    "                9999  # big number -- were dormant prior to toucan\n",
    "            )\n",
    "        else:\n",
    "            most_recent_nontouc = prior_retire[\"retired_at\"].max()\n",
    "            days_since_prev_retire = (first_touc - most_recent_nontouc).days\n",
    "        sums = data.groupby(\"is_touc\").quantity.sum()\n",
    "        return pd.Series(\n",
    "            {\n",
    "                \"frac\": round(sums[True] / sums.sum(), 3),\n",
    "                \"quantity\": sums[True],\n",
    "                \"dormancy\": days_since_prev_retire,\n",
    "            }\n",
    "        )\n",
    "    except KeyError:  # no toucs\n",
    "        return None\n",
    "\n",
    "\n",
    "def munge(data):\n",
    "    \"\"\"Clean data for ease of use in analysis\"\"\"\n",
    "\n",
    "    rename_d = {\n",
    "        \"issuanceDate\": \"issued_at\",\n",
    "        \"resourceIdentifier\": \"id\",\n",
    "        \"vintageStart\": \"vintage\",\n",
    "        \"retireOrCancelDate\": \"retired_at\",\n",
    "        \"retirementBeneficiary\": \"retired_by\",\n",
    "        \"retirementDetails\": \"retired_note\",\n",
    "        \"quantity\": \"quantity\",\n",
    "        \"protocol\": \"protocol\",\n",
    "    }\n",
    "\n",
    "    data = data.rename(columns=rename_d)\n",
    "\n",
    "    data[\"id\"] = data[\"id\"].astype(int)\n",
    "    data[\"vintage\"] = data[\"vintage\"].str[:4].astype(int)\n",
    "    data[\"issued_at\"] = data[\"issued_at\"].apply(pd.Timestamp)\n",
    "    data[\"retired_at\"] = data[\"retired_at\"].apply(pd.Timestamp)\n",
    "    data[\"issued_yr\"] = data[\"issued_at\"].dt.year\n",
    "    return data[\n",
    "        [\n",
    "            \"id\",\n",
    "            \"issued_at\",\n",
    "            \"issued_yr\",\n",
    "            \"vintage\",\n",
    "            \"protocol\",\n",
    "            \"retired_at\",\n",
    "            \"retired_by\",\n",
    "            \"retired_note\",\n",
    "            \"quantity\",\n",
    "        ]\n",
    "    ]\n",
    "\n",
    "\n",
    "def get_project_registration_dates(df):\n",
    "    \"\"\"Infer project registration date\n",
    "\n",
    "    Two inputs here: Verra transaction data and manually assembled project registration dates.\n",
    "    These dates drive the Article 6 analysis.\n",
    "    \"\"\"\n",
    "    min_issued = df.groupby(\"id\").issued_yr.min().to_dict()\n",
    "\n",
    "    register_dates = pd.read_csv(\"../data/toucan_project_register_dates.csv\")\n",
    "    register_dict = (\n",
    "        register_dates.set_index(\"id\")[\"registered_at\"]\n",
    "        .apply(pd.Timestamp)\n",
    "        .dt.year.to_dict()\n",
    "    )\n",
    "\n",
    "    issued_criteria = {k: v for k, v in min_issued.items() if v < 2013}\n",
    "    issued_criteria.update(register_dict)\n",
    "    registered_at = pd.Series(issued_criteria, dtype=float)\n",
    "    registered_at = registered_at.rename(\"registered_at\")\n",
    "    return registered_at"
   ]
  },
  {
   "cell_type": "markdown",
   "id": "ad795381",
   "metadata": {},
   "source": [
    "### Munge the data\n"
   ]
  },
  {
   "cell_type": "code",
   "execution_count": null,
   "id": "a47787ec",
   "metadata": {},
   "outputs": [],
   "source": [
    "verra_fname = \"../data/verra_2022-03-29.csv\"  # you'll have to change this once you run `scripts/download_verra_data.py`!"
   ]
  },
  {
   "cell_type": "code",
   "execution_count": null,
   "id": "4b518527",
   "metadata": {},
   "outputs": [],
   "source": [
    "df = pd.read_csv(verra_fname)\n",
    "df = munge(df)\n",
    "\n",
    "# used in CORSIA analysis\n",
    "min_vintage = df.groupby(\"id\").vintage.min().to_dict()\n",
    "df.loc[:, \"min_vintage\"] = df[\"id\"].map(min_vintage)\n",
    "\n",
    "retirements = df[~pd.isna(df[\"retired_at\"])].copy()\n",
    "retirements.loc[:, \"is_touc\"] = (\n",
    "    retirements[\"retired_note\"].str.startswith(\"TOUC\").fillna(False).copy()\n",
    ")\n",
    "\n",
    "toucs = retirements[retirements[\"is_touc\"]].copy()\n",
    "\n",
    "# Used in Article 6 analysis\n",
    "registered_at = get_project_registration_dates(df)\n",
    "toucs = toucs.join(registered_at, on=\"id\")"
   ]
  },
  {
   "cell_type": "markdown",
   "id": "8693e172",
   "metadata": {},
   "source": [
    "# Analysis\n"
   ]
  },
  {
   "cell_type": "code",
   "execution_count": null,
   "id": "8fe0f198",
   "metadata": {},
   "outputs": [],
   "source": [
    "touc_projects = retirements.loc[retirements[\"is_touc\"], \"id\"].unique().tolist()\n",
    "summary = (\n",
    "    retirements[retirements[\"id\"].isin(touc_projects)]\n",
    "    .groupby(\"id\")\n",
    "    .apply(summarize_toucan_project)\n",
    "    .sort_values(by=[\"frac\", \"quantity\"])\n",
    ")"
   ]
  },
  {
   "cell_type": "markdown",
   "id": "c525fb8c",
   "metadata": {},
   "source": [
    "## Inline stats\n",
    "\n",
    "Calculation of numbers that appear in explainer text, in the order they appear!\n"
   ]
  },
  {
   "cell_type": "code",
   "execution_count": null,
   "id": "b93845a2",
   "metadata": {},
   "outputs": [],
   "source": [
    "touc_total = toucs[\"quantity\"].sum()\n",
    "print(f\"Total Toucan retirements: {touc_total/1_000_000:.3f}\")"
   ]
  },
  {
   "cell_type": "code",
   "execution_count": null,
   "id": "155ac6b7",
   "metadata": {},
   "outputs": [],
   "source": [
    "dormant = summary[(summary[\"dormancy\"] > 2 * 365) & (summary[\"frac\"] <= 0.95)]\n",
    "exclusive = summary[(summary[\"frac\"] > 0.95)]\n",
    "\n",
    "zombie_total = dormant.quantity.sum() + exclusive.quantity.sum()\n",
    "print(f\"Zombie credits total: {zombie_total / 1_000_000:.2f} million\")"
   ]
  },
  {
   "cell_type": "code",
   "execution_count": null,
   "id": "5a180527",
   "metadata": {},
   "outputs": [],
   "source": [
    "frac_touc_zombie = zombie_total / touc_total\n",
    "print(\n",
    "    f\"Percent Toucan credits classified as zombie credits: {frac_touc_zombie * 100:.2f}% \"\n",
    ")"
   ]
  },
  {
   "cell_type": "code",
   "execution_count": null,
   "id": "a8d18e84",
   "metadata": {},
   "outputs": [],
   "source": [
    "vcs_id = 191\n",
    "project_quant = summary.loc[vcs_id, \"quantity\"]\n",
    "\n",
    "print(\n",
    "    f\"VCS 191 is {project_quant / touc_total * 100: .2f}% of all Toucan retirements ({project_quant / 1_000_000:.2f} million credits)\"\n",
    ")\n",
    "print(\n",
    "    f\"That's {summary.loc[vcs_id, 'frac'] * 100}% of all its retirements have been via Toucan\"\n",
    ")"
   ]
  },
  {
   "cell_type": "markdown",
   "id": "e1a1c0c2",
   "metadata": {},
   "source": [
    "### CORSIA\n",
    "\n",
    "CORSIA has released rules on\n",
    "[the types of emission units (credits) eligible for use within the program](https://www.icao.int/environmental-protection/CORSIA/Pages/CORSIA-Emissions-Units.aspx).\n",
    "\n",
    "Each credit type has an entry describing \"Eligible Unit Dates\", which includes\n",
    "the following bit of text:\n",
    "\n",
    "> Issued to activities that started their first crediting period from 1 January\n",
    "> 2016\n",
    "\n",
    "This means that projects are screened by their first _crediting period_, as\n",
    "opposed to project start date or the specific vintage year of credits. For each\n",
    "project, we've calculated the minimum recorded vintage year within Verra's\n",
    "trasaction database. So we just need to find all the Toucan credits that come\n",
    "from projects with a `min_vintage` of less than 2016.\n"
   ]
  },
  {
   "cell_type": "code",
   "execution_count": null,
   "id": "05902d3e",
   "metadata": {},
   "outputs": [],
   "source": [
    "corsia_cutoff = 2016\n",
    "corsia_ineligible = toucs[toucs[\"min_vintage\"] < corsia_cutoff].quantity.sum()\n",
    "frac_corsia_inelig = corsia_ineligible / touc_total\n",
    "\n",
    "print(f\"CORSIA ineligible: {corsia_ineligible / 1_000_000:.2f} million\")\n",
    "\n",
    "print(\n",
    "    f\"Or {frac_corsia_inelig * 100:.2f}% of retired Toucan credits do not meet CORSIA criteria\"\n",
    ")"
   ]
  },
  {
   "cell_type": "markdown",
   "id": "f7ea7774",
   "metadata": {},
   "source": [
    "### Article 6\n",
    "\n",
    "We performed a similar analysis for Article 6.\n",
    "\n",
    "Here the eligibility criteria are less straight forward. We based our analysis\n",
    "off the\n",
    "[advanced version of the Article 6 rules](https://unfccc.int/documents/460950),\n",
    "page 39 paragraph 75, subsection (a), which reads:\n",
    "\n",
    "> The CDM project activity or programme of activities was registered on or after\n",
    "> 1 January 2013;\n",
    "\n",
    "Unlike CORSIA, which uses date of first crediting period, Article 6 uses project\n",
    "registration date as part of its gating criteria. This introduces a slight\n",
    "complication if projects are awarded retroactive credits. Specifically, what\n",
    "would happen to a project that registered after 1/1/2013 but was awarded credits\n",
    "for claimed mitigations that happened in 2012? A permissive reading would allow\n",
    "those 2012 credits for use under Article 6.\n",
    "\n",
    "This means we need to look at project registration dates, not vintage dates.\n",
    "Unfortunately, we were unable to locate a systematic reporting of Verra project\n",
    "registration dates. Instead we developed a simple method to estimate\n",
    "registration date. First, if a project had an issuance event prior to 1/1/2013,\n",
    "we can just use issuance date as a proxy for registration date, under the logic\n",
    "that a project must be registered prior to being issued credits.  \n",
    "Second, if a project has over 25,000 retirements via Toucan but an issuance date\n",
    "after 1/1/2013, we downloaded the Verra project documentation to determine\n",
    "registration date. We used the `Date of Issue` from the Project Design Document\n",
    "as the registration date. If the project was transfered from the CDM, we used\n",
    "the officially reported CDM registration date and included a link to the CDM\n",
    "public database in the transcribed data. Those transcribed data are included in\n",
    "this repository in `data/toucan_project_register_dates.csv`\n"
   ]
  },
  {
   "cell_type": "code",
   "execution_count": null,
   "id": "72f4e1a5",
   "metadata": {},
   "outputs": [],
   "source": [
    "article_vi_cutoff = 2013\n",
    "article_vi_ineligible = toucs[\n",
    "    toucs[\"registered_at\"] < article_vi_cutoff\n",
    "].quantity.sum()\n",
    "frac_article_vi_inelig = article_vi_ineligible / touc_total\n",
    "\n",
    "print(f\"Article 6 ineligible: {article_vi_ineligible / 1_000_000:.2f} million\")\n",
    "print(\n",
    "    f\"Or {frac_article_vi_inelig * 100:.2f}% of retired Toucan credits would not meet Article 6 criteria \"\n",
    ")"
   ]
  },
  {
   "cell_type": "markdown",
   "id": "a5d44fa4",
   "metadata": {},
   "source": [
    "## Other stats\n"
   ]
  },
  {
   "cell_type": "code",
   "execution_count": null,
   "id": "a8c60709",
   "metadata": {},
   "outputs": [],
   "source": [
    "n_zombie = len(\n",
    "    set(dormant.index.unique().tolist() + exclusive.index.unique().tolist())\n",
    ")\n",
    "print(\n",
    "    f\"There are {n_zombie} zombies on the block chain, representing {n_zombie / len(touc_projects) * 100:.0f}% of all projects that have retired via Toucan\"\n",
    ")"
   ]
  },
  {
   "cell_type": "markdown",
   "id": "05fc0c74",
   "metadata": {},
   "source": [
    "## Quarterly results\n"
   ]
  },
  {
   "cell_type": "code",
   "execution_count": null,
   "id": "956d41b4",
   "metadata": {},
   "outputs": [],
   "source": [
    "touc_quarterly = retirements.groupby(\n",
    "    [retirements[\"retired_at\"].dt.to_period(\"Q\"), \"is_touc\"]\n",
    ").quantity.sum()\n",
    "all_quarterly = touc_quarterly.unstack(0).sum()\n",
    "\n",
    "(touc_quarterly / all_quarterly).tail(5).unstack(0)"
   ]
  },
  {
   "cell_type": "code",
   "execution_count": null,
   "id": "25859b23",
   "metadata": {},
   "outputs": [],
   "source": [
    "toucs_ytd_2022 = retirements[\n",
    "    (retirements[\"is_touc\"]) & (retirements[\"retired_at\"].dt.year == 2022)\n",
    "].quantity.sum()\n",
    "print(f\"Toucan retirements YTD (2022): {toucs_ytd_2022 / 1_000_000:.2f}\")"
   ]
  },
  {
   "cell_type": "markdown",
   "id": "a8c7668c",
   "metadata": {},
   "source": [
    "### Some dates\n"
   ]
  },
  {
   "cell_type": "code",
   "execution_count": null,
   "id": "d75f44c6",
   "metadata": {},
   "outputs": [],
   "source": [
    "vcs_191_date = toucs[toucs[\"id\"] == 191].retired_at.min()\n",
    "first_touc_date = toucs.retired_at.min()"
   ]
  },
  {
   "cell_type": "markdown",
   "id": "98134583",
   "metadata": {},
   "source": [
    "## some assertions\n"
   ]
  },
  {
   "cell_type": "code",
   "execution_count": null,
   "id": "836b0224",
   "metadata": {},
   "outputs": [],
   "source": [
    "quaterly_retirements = (\n",
    "    retirements.groupby(retirements[\"retired_at\"].dt.to_period(\"Q\"))\n",
    "    .quantity.sum()\n",
    "    .div(1_000_000)\n",
    "    .round(1)\n",
    ")\n",
    "assert quaterly_retirements.loc[\"2021Q4\"] == 47.1"
   ]
  },
  {
   "cell_type": "code",
   "execution_count": null,
   "id": "9dc01430",
   "metadata": {},
   "outputs": [],
   "source": [
    "# random sampling and just do some asserts that we've manually checked\n",
    "assert min_vintage[191] == 2006\n",
    "assert min_vintage[87] == 2007\n",
    "assert min_vintage[2310] == 2016\n",
    "assert min_vintage[269] == 2006\n",
    "assert min_vintage[2414] == 2015\n",
    "assert min_vintage[1865] == 2014\n",
    "\n",
    "# and all rows need to have a min vintage\n",
    "assert len(df[pd.isna(df[\"min_vintage\"])]) == 0"
   ]
  }
 ],
 "metadata": {
  "kernelspec": {
   "display_name": "Python 3 (ipykernel)",
   "language": "python",
   "name": "python3"
  },
  "language_info": {
   "codemirror_mode": {
    "name": "ipython",
    "version": 3
   },
   "file_extension": ".py",
   "mimetype": "text/x-python",
   "name": "python",
   "nbconvert_exporter": "python",
   "pygments_lexer": "ipython3",
   "version": "3.9.6"
  }
 },
 "nbformat": 4,
 "nbformat_minor": 5
}
